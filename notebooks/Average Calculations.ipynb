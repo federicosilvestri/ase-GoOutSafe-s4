{
 "cells": [
  {
   "cell_type": "code",
   "execution_count": 1,
   "metadata": {},
   "outputs": [
    {
     "data": {
      "text/plain": [
       "<Flask 'gooutsafe'>"
      ]
     },
     "execution_count": 1,
     "metadata": {},
     "output_type": "execute_result"
    }
   ],
   "source": [
    "import os\n",
    "import sys\n",
    "sys.path.insert(0, os.path.abspath('../'))\n",
    "from gooutsafe import create_app\n",
    "app = create_app()"
   ]
  },
  {
   "cell_type": "code",
   "execution_count": 12,
   "metadata": {},
   "outputs": [
    {
     "data": {
      "text/plain": [
       "[]"
      ]
     },
     "execution_count": 12,
     "metadata": {},
     "output_type": "execute_result"
    }
   ],
   "source": [
    "from gooutsafe.dao.restaurant_rating_manager import RestaurantRatingManager\n",
    "from gooutsafe.dao.restaurant_manager import RestaurantManager\n",
    "from gooutsafe.models.restaurant import Restaurant\n",
    "from gooutsafe.models.restaurant_rating import RestaurantRating\n",
    "from gooutsafe.dao.manager import Manager\n",
    "from sqlalchemy import func\n",
    "\n",
    "r = RestaurantManager.retrieve_by_id(2)\n",
    "\n",
    "base_query = Manager.db_session.query(\n",
    "    func.avg(RestaurantRating.value)\n",
    ").filter_by(restaurant=r)\n",
    "\n",
    "base_query.scalar()\n",
    "\n",
    "r.ratings"
   ]
  },
  {
   "cell_type": "code",
   "execution_count": null,
   "metadata": {},
   "outputs": [],
   "source": []
  }
 ],
 "metadata": {
  "kernelspec": {
   "display_name": "gooutsafe-venv",
   "language": "python",
   "name": "gooutsafe-venv"
  },
  "language_info": {
   "codemirror_mode": {
    "name": "ipython",
    "version": 3
   },
   "file_extension": ".py",
   "mimetype": "text/x-python",
   "name": "python",
   "nbconvert_exporter": "python",
   "pygments_lexer": "ipython3",
   "version": "3.8.5"
  }
 },
 "nbformat": 4,
 "nbformat_minor": 4
}
