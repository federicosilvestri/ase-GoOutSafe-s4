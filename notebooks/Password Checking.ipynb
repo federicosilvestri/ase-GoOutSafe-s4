{
 "cells": [
  {
   "cell_type": "code",
   "execution_count": 1,
   "metadata": {},
   "outputs": [
    {
     "data": {
      "text/plain": [
       "<Flask 'gooutsafe'>"
      ]
     },
     "execution_count": 1,
     "metadata": {},
     "output_type": "execute_result"
    }
   ],
   "source": [
    "import os\n",
    "import sys\n",
    "sys.path.insert(0, os.path.abspath('../'))\n",
    "from gooutsafe import create_app\n",
    "app = create_app()"
   ]
  },
  {
   "cell_type": "code",
   "execution_count": 4,
   "metadata": {},
   "outputs": [
    {
     "name": "stdout",
     "output_type": "stream",
     "text": [
      "pbkdf2:sha256:150000$WP4R2Jo1$19592051a1b283747b156850f23c7297c45e098b6391bbd869aaa3dec55e0961\n",
      "True\n"
     ]
    }
   ],
   "source": [
    "from werkzeug.security import generate_password_hash, check_password_hash\n",
    "\n",
    "plain_text_password = 'abcd123'\n",
    "password_hash = generate_password_hash(plain_text_password)\n",
    "print(password_hash)\n",
    "\n",
    "# checking password\n",
    "result = check_password_hash(password_hash, plain_text_password)\n",
    "print(result)"
   ]
  },
  {
   "cell_type": "code",
   "execution_count": null,
   "metadata": {},
   "outputs": [],
   "source": []
  }
 ],
 "metadata": {
  "kernelspec": {
   "display_name": "gooutsafe-venv",
   "language": "python",
   "name": "gooutsafe-venv"
  },
  "language_info": {
   "codemirror_mode": {
    "name": "ipython",
    "version": 3
   },
   "file_extension": ".py",
   "mimetype": "text/x-python",
   "name": "python",
   "nbconvert_exporter": "python",
   "pygments_lexer": "ipython3",
   "version": "3.8.5"
  }
 },
 "nbformat": 4,
 "nbformat_minor": 4
}
